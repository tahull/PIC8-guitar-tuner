{
 "cells": [
  {
   "cell_type": "code",
   "execution_count": 1,
   "metadata": {},
   "outputs": [],
   "source": [
    "import numpy as np\n",
    "from scipy import signal\n",
    "import matplotlib.pyplot as plt\n",
    "import ipywidgets as widgets"
   ]
  },
  {
   "cell_type": "code",
   "execution_count": 2,
   "metadata": {},
   "outputs": [],
   "source": [
    "def insert_sample(d,target_f,fs,sample):\n",
    "    if(target_f in d):\n",
    "        if(fs in d[target_f]):\n",
    "            d[target_f][fs].append(sample)\n",
    "        else:\n",
    "            d[target_f][fs] = [sample]\n",
    "    else:\n",
    "        d[target_f] = {fs:[sample]}\n",
    "\n",
    "def read_file():\n",
    "    #read from file, expected frequency and sample array\n",
    "    #run test, compare expected to processed result\n",
    "    with open('dataset.txt') as f:\n",
    "        sample_chunks =[]\n",
    "        d=dict()\n",
    "        target_f = 0\n",
    "        fs = 0\n",
    "        for line in f:\n",
    "            line = line.replace(\" \",\"\")        \n",
    "            if(line.lower().find(\"f=\") != -1):\n",
    "                target_f = (line[line.lower().find(\"f=\")+2:line.find('\\n')])\n",
    "                #if(target_f.isnumeric()):\n",
    "                #    target_f=np.float64(target_f)\n",
    "                #else:\n",
    "                #    target_f = 0\n",
    "            if(line.lower().find(\"fs=\") != -1):\n",
    "                fs = np.uint16(line[line.lower().find(\"fs=\")+3:line.find('\\n')])\n",
    "\n",
    "            data_start = line.find('[')\n",
    "            if(data_start != -1):\n",
    "                if(fs == 0):\n",
    "                    print(\"warning, FS not declared\")\n",
    "                data_chunk = np.array(line[data_start+1:line.find(']')].split(',')).astype(np.int32)\n",
    "                insert_sample(d,target_f,fs,data_chunk)\n",
    "    return d    "
   ]
  },
  {
   "cell_type": "code",
   "execution_count": 3,
   "metadata": {},
   "outputs": [],
   "source": [
    "def print_plot(fs,t,signal,target_f):\n",
    "    f = 150\n",
    "    if target_f.isnumeric():\n",
    "        f = np.int32(target_f)    \n",
    "    plt.subplot(2,2,1)\n",
    "    plt.title(\"Source signal. sample length = %i \" %(len(signal)))\n",
    "    plt.plot(t, signal)\n",
    "    plt.axhline(0,color='black')\n",
    "    \n",
    "    plt.subplot(2,2,2)    \n",
    "    raw_signal_fft = np.fft.rfft(signal)\n",
    "    raw_signal_fft_bins = np.fft.rfftfreq(signal.size, d=1/fs)\n",
    "    max_peak = np.argmax(abs(raw_signal_fft))\n",
    "    acc = ((fs/2)/(len(signal)/2))\n",
    "    plt.title(\"FFT acc +/- %i Hz | dominant f %i Hz\" %(acc,raw_signal_fft_bins[max_peak]))\n",
    "    plt.axvline(raw_signal_fft_bins[max_peak],color=\"green\")\n",
    "    plt.plot(raw_signal_fft_bins,np.abs(raw_signal_fft))\n",
    "    plt.xlim(0, f*5) #show range up to 4th harmonic    \n",
    "    plt.tight_layout()\n",
    "    plt.show()    "
   ]
  },
  {
   "cell_type": "code",
   "execution_count": 4,
   "metadata": {},
   "outputs": [],
   "source": [
    "def print_result_plot(fs,t,result,target_f,t_idx):\n",
    "    plt.subplot(2,2,1)\n",
    "    plt.plot(t,result)\n",
    "    plt.plot(t[t_idx],result[t_idx],'ro')\n",
    "    plt.title(\"f[%i]=%.2f Hz | T=%.3f ms\" %(t_idx,fs/t_idx,(t_idx*1000)/fs))    \n",
    "    \n",
    "    t_adj = get_interpolation(result,t_idx)\n",
    "    plt.subplot(2,2,2)\n",
    "    window = 5\n",
    "    plt.plot(t[t_idx-window:t_idx+window+1],result[t_idx-window:t_idx+window+1])\n",
    "    \n",
    "    plt.plot(t_adj/fs,result[t_idx],\"bo\",label = 'adjusted center')\n",
    "    plt.plot(t[t_idx+1],result[t_idx+1],\"go\",label = 'center +1')\n",
    "    plt.plot(t[t_idx],result[t_idx],\"ro\",label='center')\n",
    "    plt.plot(t[t_idx-1],result[t_idx-1],\"go\",label = 'center -1')\n",
    "    plt.legend()\n",
    "    plt.title(\"f[%.2f]=%.2f Hz | T=%.3f ms\" %(t_adj,fs/t_adj,(t_adj*1000)/fs))\n",
    "    plt.tight_layout()\n",
    "    plt.show()"
   ]
  },
  {
   "cell_type": "code",
   "execution_count": 5,
   "metadata": {},
   "outputs": [],
   "source": [
    "def acf(x):\n",
    "    r = np.zeros(len(x))\n",
    "    for k in range(len(x)):\n",
    "        for j in range(len(x)-k):\n",
    "            r[k] += (x[j]*x[j+k]) #acf\n",
    "        #r[k] = r[k]/(len(x)+3*k)\n",
    "        r[k] = r[k]/(len(x)+k)\n",
    "        #r[k] = r[k]/(len(x))\n",
    "    return r"
   ]
  },
  {
   "cell_type": "code",
   "execution_count": 6,
   "metadata": {},
   "outputs": [],
   "source": [
    "def amdf(x):\n",
    "    r = np.zeros(len(x))\n",
    "    for k in range(0,len(x)):\n",
    "        for j in range(len(x)-k):\n",
    "            r[k] += abs(x[j]-x[j+k])\n",
    "        #r[k] = r[k]/(len(x)-k)\n",
    "        #r[k] = r[k]/len(x)\n",
    "        #r[k] = r[k]+20*k\n",
    "    return r"
   ]
  },
  {
   "cell_type": "code",
   "execution_count": 7,
   "metadata": {},
   "outputs": [],
   "source": [
    "def get_idx(x,fs,corr_type):\n",
    "    T_MIN = fs/365\n",
    "    T_MAX = fs/65\n",
    "    target_val = 0\n",
    "    t_idx = -1\n",
    "    \n",
    "    if corr_type == \"amdf\":\n",
    "        target_val = np.iinfo(np.int16).max\n",
    "        \n",
    "    for i in range(len(x)):\n",
    "        if( i  > T_MIN and i < T_MAX):\n",
    "            if corr_type == \"acf\":                \n",
    "                if x[i] > target_val:\n",
    "                    target_val = x[i]\n",
    "                    t_idx = i \n",
    "            elif corr_type == \"amdf\":\n",
    "                if x[i] < target_val:\n",
    "                    target_val = x[i]\n",
    "                    t_idx = i\n",
    "    return t_idx\n",
    "        "
   ]
  },
  {
   "cell_type": "code",
   "execution_count": 8,
   "metadata": {},
   "outputs": [],
   "source": [
    "def get_interpolation(x,t_idx):\n",
    "    p_adj = ((x[t_idx+1] - x[t_idx-1])/(2*(2*x[t_idx] - x[t_idx+1] - x[t_idx-1])))\n",
    "    return t_idx+p_adj"
   ]
  },
  {
   "cell_type": "code",
   "execution_count": 9,
   "metadata": {},
   "outputs": [],
   "source": [
    "def get_results(d,target_f,fs,corr_type):\n",
    "    res_d={'res':[],'idx':[],'f':[],'error':[]}\n",
    "\n",
    "    for i in range(len(d[target_f][fs])):\n",
    "        signal = d[target_f][fs][i]\n",
    "        res_d[\"res\"].append(eval(corr_type)(signal))\n",
    "        res_d[\"idx\"].append(get_idx(res_d[\"res\"][i],fs,corr_type))\n",
    "        res_d[\"f\"].append(fs/get_interpolation(res_d[\"res\"][i],res_d[\"idx\"][i]))\n",
    "        if target_f.isnumeric():\n",
    "            f = np.int32(target_f)\n",
    "            res_d[\"error\"].append(abs(f - res_d[\"f\"][i]) > 2)\n",
    "        \n",
    "    return res_d"
   ]
  },
  {
   "cell_type": "code",
   "execution_count": 10,
   "metadata": {},
   "outputs": [
    {
     "data": {
      "application/vnd.jupyter.widget-view+json": {
       "model_id": "734271b4ce6b4214a13d4aa074da6c7a",
       "version_major": 2,
       "version_minor": 0
      },
      "text/plain": [
       "interactive(children=(Dropdown(description='target_f', options=('82', '110', '146', '197', '246', '329', 'auto…"
      ]
     },
     "metadata": {},
     "output_type": "display_data"
    },
    {
     "data": {
      "text/plain": [
       "<function __main__.freq_select(target_f, d)>"
      ]
     },
     "execution_count": 10,
     "metadata": {},
     "output_type": "execute_result"
    }
   ],
   "source": [
    "#widgets\n",
    "def freq_select(target_f,d):\n",
    "    def fs_select(fs):\n",
    "        sample_size = len(d[target_f][fs])\n",
    "        \n",
    "        acf_res = get_results(d,target_f,fs,\"acf\")\n",
    "        acf_err = sum(acf_res[\"error\"])\n",
    "        \n",
    "        amdf_res = get_results(d,target_f,fs,\"amdf\")\n",
    "        amdf_err = sum(amdf_res[\"error\"])\n",
    "        \n",
    "        print(\"Num of samples in test\",sample_size)\n",
    "        print(\"ACF results \\t\\t AMDF results\")        \n",
    "        print(\"errors\\t\",acf_err,\"\\t\\t\",amdf_err)\n",
    "        #print(\"error %3.2f\\t\\t%3.2f\" %((acf_err/sample_size)*100, (amdf_err/sample_size)*100))\n",
    "        print(\"error %\\t {:3.2f} \\t\\t {:3.2f}\".format((acf_err/sample_size)*100, (amdf_err/sample_size)*100))\n",
    "        def slider(x):\n",
    "            signal = d[target_f][fs][x-1]\n",
    "            l = len(signal)/fs \n",
    "            t = np.arange(0,l,1.0/fs) #x axis time scale\n",
    "            \n",
    "            plt.rcParams['figure.figsize'] = [10, 4]\n",
    "            print_plot(fs,t,signal,target_f)\n",
    "            plt.suptitle(\"ACF\")\n",
    "            print_result_plot(fs,t,acf_res[\"res\"][x-1],target_f,acf_res[\"idx\"][x-1])\n",
    "            plt.suptitle(\"AMDF\")\n",
    "            print_result_plot(fs,t,amdf_res[\"res\"][x-1],target_f,amdf_res[\"idx\"][x-1])\n",
    "            \n",
    "        slider_max = len(d[target_f][fs])    \n",
    "        widgets.interact(slider, x= widgets.IntSlider(min=1,max =slider_max,step = 1));\n",
    "    widgets.interact(fs_select,fs=list(d[target_f]))\n",
    "\n",
    "d = read_file()\n",
    "widgets.interact(freq_select,target_f = list(d.keys()),d=widgets.fixed(d))\n",
    "    "
   ]
  },
  {
   "cell_type": "code",
   "execution_count": null,
   "metadata": {},
   "outputs": [],
   "source": []
  }
 ],
 "metadata": {
  "kernelspec": {
   "display_name": "Python 3",
   "language": "python",
   "name": "python3"
  },
  "language_info": {
   "codemirror_mode": {
    "name": "ipython",
    "version": 3
   },
   "file_extension": ".py",
   "mimetype": "text/x-python",
   "name": "python",
   "nbconvert_exporter": "python",
   "pygments_lexer": "ipython3",
   "version": "3.9.7"
  }
 },
 "nbformat": 4,
 "nbformat_minor": 4
}
